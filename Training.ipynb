{
 "cells": [
  {
   "cell_type": "markdown",
   "metadata": {},
   "source": [
    "### ** Bio606 Python Training Course **\n",
    "##### _ author: Y.F.Liu, Ph.D. _\n",
    "##### _ date: 2017.11.1 _"
   ]
  },
  {
   "cell_type": "markdown",
   "metadata": {},
   "source": [
    "#### Step 1 - read input DNA sequence from plain text file 'TP53.txt'"
   ]
  },
  {
   "cell_type": "code",
   "execution_count": null,
   "metadata": {
    "collapsed": true,
    "slideshow": {
     "slide_type": "-"
    }
   },
   "outputs": [],
   "source": [
    "import re, csv,  pprint\n",
    "\n",
    "def read_seq(fn):\n",
    "    \"\"\"讀取 DNA 序列\"\"\"\n",
    "    with open(fn, 'rt') as f:\n",
    "        seq = list()      \n",
    "        for line in f.readlines():\n",
    "            if not re.match('^>', line):   # remove description lines\n",
    "                for base in line:\n",
    "                    if not base == '\\n':\n",
    "                        seq.append(base)              \n",
    "    \n",
    "    return seq\n",
    "\n",
    "seq = read_seq('TP53.txt')\n",
    "seq?"
   ]
  },
  {
   "cell_type": "code",
   "execution_count": null,
   "metadata": {},
   "outputs": [],
   "source": [
    "%%perl\n",
    "open ($fn, \"TP53.txt\");\n",
    "while ($line=<$fn>) {\n",
    "  chomp($line);\n",
    "  if ($line !~ /^>/) {\n",
    "     foreach $base (split(\"\", $line)) {\n",
    "        push(@seq, $base);\n",
    "     }\n",
    "  }\n",
    "}\n",
    "print \"@seq\\n\";\n",
    "close ($fn);"
   ]
  },
  {
   "cell_type": "markdown",
   "metadata": {},
   "source": [
    "#### Step 2 - DNA complementary sequence from seq"
   ]
  },
  {
   "cell_type": "code",
   "execution_count": null,
   "metadata": {
    "collapsed": true
   },
   "outputs": [],
   "source": [
    "def complementary_seq(seq):\n",
    "    \"\"\"互補 DNA 序列\"\"\"\n",
    "    c_seq = list()\n",
    "\n",
    "    c_table = {'A':'T', 'T':'A', 'C':'G', 'G':'C'}\n",
    "    \n",
    "    for base in seq:\n",
    "        c_seq.append(c_table[base])\n",
    "\n",
    "    return c_seq\n",
    "\n",
    "c_seq = complementary_seq(seq)\n",
    "c_seq?"
   ]
  },
  {
   "cell_type": "code",
   "execution_count": null,
   "metadata": {},
   "outputs": [],
   "source": [
    "%%perl\n",
    "open ($fn, \"TP53.txt\");\n",
    "while ($line=<$fn>) {\n",
    "  chomp($line);\n",
    "  if ($line !~ /^>/) {\n",
    "     foreach $base (split(\"\", $line)) {\n",
    "        push(@seq, $base);\n",
    "     }\n",
    "  }\n",
    "}\n",
    "close ($fn);\n",
    "\n",
    "%c_table = ('A'=>'T', 'T'=>'A', 'C'=>'G', 'G'=>'C');\n",
    "\n",
    "foreach $base (@seq) {\n",
    "   push(@c_seq, $c_table{$base});\n",
    "}\n",
    "print \"@c_seq\\n\";"
   ]
  },
  {
   "cell_type": "markdown",
   "metadata": {},
   "source": [
    "#### Step 3 - Reverse the DNA sequence from c_seq    "
   ]
  },
  {
   "cell_type": "code",
   "execution_count": null,
   "metadata": {
    "collapsed": true
   },
   "outputs": [],
   "source": [
    "def reverse_seq(c_seq): \n",
    "    \"\"\"反轉 DNA 序列\"\"\"\n",
    "    c_seq.reverse()\n",
    "    \n",
    "    return c_seq\n",
    "\n",
    "r_seq = reverse_seq(c_seq)\n",
    "r_seq?"
   ]
  },
  {
   "cell_type": "code",
   "execution_count": null,
   "metadata": {},
   "outputs": [],
   "source": [
    "%%perl\n",
    "open ($fn, \"TP53.txt\");\n",
    "while ($line=<$fn>) {\n",
    "  chomp($line);\n",
    "  if ($line !~ /^>/) {\n",
    "     foreach $base (split(\"\", $line)) {\n",
    "        push(@seq, $base);\n",
    "     }\n",
    "  }\n",
    "}\n",
    "close ($fn);\n",
    "\n",
    "%c_table = ('A'=>'T', 'T'=>'A', 'C'=>'G', 'G'=>'C');\n",
    "\n",
    "foreach $base (@seq) {\n",
    "   push(@c_seq, $c_table{$base});\n",
    "}\n",
    "\n",
    "@r_seq = reverse(@c_seq);\n",
    "print \"@r_seq\\n\""
   ]
  },
  {
   "cell_type": "markdown",
   "metadata": {},
   "source": [
    "#### Step 4 - Create the codon table of DNA -> Protein from csv file 'T_table.csv'"
   ]
  },
  {
   "cell_type": "code",
   "execution_count": null,
   "metadata": {
    "collapsed": true
   },
   "outputs": [],
   "source": [
    "def read_t_table(fn):\n",
    "    \"\"\"建立 Translation Table\"\"\"\n",
    "    with open(fn, 'r') as f:\n",
    "        t_table = dict()\n",
    "        for words in csv.reader(f, delimiter = '\\t'):\n",
    "            t_table[words[0]] = {'one':words[1], 'three':words[2]}\n",
    "                \n",
    "    return t_table\n",
    "\n",
    "t_table = read_t_table('T_table.csv')\n",
    "t_table?"
   ]
  },
  {
   "cell_type": "code",
   "execution_count": null,
   "metadata": {},
   "outputs": [],
   "source": [
    "%%perl\n",
    "open ($fn, \"T_table.csv\");\n",
    "$ref = {};\n",
    "while ($line=<$fn>) {\n",
    "  chomp($line);\n",
    "  my @words = split(\"\\t\", $line);\n",
    "     $ref->{$words[0]}->{'one'} = $words[1];\n",
    "     $ref->{$words[0]}->{'three'} = $words[2];\n",
    "}\n",
    "foreach $codon (keys %{$ref}) {\n",
    "  print $codon.\"\\t\".$ref->{$codon}->{'one'}.\"\\n\"\n",
    "}\n",
    "close ($fn);"
   ]
  },
  {
   "cell_type": "markdown",
   "metadata": {},
   "source": [
    "#### Step 5 - Translation the six reading frames from DNA double strains "
   ]
  },
  {
   "cell_type": "code",
   "execution_count": null,
   "metadata": {},
   "outputs": [],
   "source": [
    "def translation(seq, t_table):\n",
    "    \"\"\"進行轉譯 DNA 序列 (包含正反兩股的 6 個 Frames)\"\"\"\n",
    "    codon = str()\n",
    "    all = dict()\n",
    "    \n",
    "    for frame in range(3):\n",
    "      protein = list()\n",
    "      for item in range(frame, int(len(seq)/3)*3, 3):\n",
    "        protein.append(t_table[codon.join(seq[item:item+3])]['one'])\n",
    "      all['positive strain frame-'+str(frame+1)] = protein\n",
    "    \n",
    "    c_seq = complementary_seq(seq)\n",
    "    r_seq = reverse_seq(c_seq)\n",
    "\n",
    "    for frame in range(3):\n",
    "      protein = list()\n",
    "      for item in range(frame, int(len(r_seq)/3)*3, 3):\n",
    "        protein.append(t_table[codon.join(seq[item:item+3])]['one'])\n",
    "      all['negative strain frame-'+str(frame+1)] = protein\n",
    "    return all\n",
    "\n",
    "frames = translation(seq, t_table)\n",
    "frames?"
   ]
  },
  {
   "cell_type": "code",
   "execution_count": null,
   "metadata": {},
   "outputs": [],
   "source": [
    "%%perl\n",
    "open ($fn, \"TP53.txt\");\n",
    "while ($line=<$fn>) {\n",
    "  chomp($line);\n",
    "  if ($line !~ /^>/) {\n",
    "     foreach $base (split(\"\", $line)) {\n",
    "        push(@seq, $base);\n",
    "     }\n",
    "  }\n",
    "}\n",
    "\n",
    "%c_table = ('A'=>'T', 'T'=>'A', 'C'=>'G', 'G'=>'C');\n",
    "foreach $base (@seq) {\n",
    "   push(@c_seq, $c_table{$base});\n",
    "}\n",
    "\n",
    "@r_seq = reverse(@c_seq);\n",
    "\n",
    "open ($fn, \"T_table.csv\");\n",
    "$T_table = {};\n",
    "while ($line=<$fn>) {\n",
    "  chomp($line);\n",
    "  my @words = split(\"\\t\", $line);\n",
    "     $T_table->{$words[0]}->{'one'} = $words[1];\n",
    "     $T_table->{$words[0]}->{'three'} = $words[2];\n",
    "}\n",
    "close ($fn);\n",
    "\n",
    "$frames = {};\n",
    "foreach my $frame (1..3) {\n",
    "   for ($i=$frame; $i<($#seq); $i +=3) {\n",
    "      my $codon = $seq[$i].$seq[$i+1].$seq[$i+2];\n",
    "      $frames->{'positive strain frame-'.$frame} .= $T_table->{$codon}->{'one'}\n",
    "   }\n",
    "}\n",
    "foreach my $frame (1..3) {\n",
    "   for ($i=$frame; $i<($#r_seq); $i +=3) {\n",
    "      my $codon = $r_seq[$i].$r_seq[$i+1].$r_seq[$i+2];\n",
    "      $frames->{'negative strain frame-'.$frame} .= $T_table->{$codon}->{'one'}\n",
    "   }\n",
    "}\n",
    "\n",
    "foreach my $item (keys %{$frames}) {\n",
    "   print $item.\"\\t\".$frames->{$item}.\"\\n\";\n",
    "}"
   ]
  },
  {
   "cell_type": "markdown",
   "metadata": {},
   "source": [
    "#### Step 6 - Determine the ORFs and generate info of these ORFs (longest orf and its lenght)"
   ]
  },
  {
   "cell_type": "code",
   "execution_count": null,
   "metadata": {
    "collapsed": true
   },
   "outputs": [],
   "source": [
    "def determine_orf(frames):\n",
    "    \"\"\" 判斷每個 Frames 的開放式框架 (ORFs)，\n",
    "        記錄每個 Frames 上所有的開放式框架，和最長的開放式框架與長度 \"\"\"\n",
    "    all_orfs = dict()\n",
    "    \n",
    "    for info, protein in frames.items():\n",
    "      orfs = list()\n",
    "      longest = 0\n",
    "      num = 0\n",
    "      candidate = 0\n",
    "      for pp in ''.join(protein).split('*'):\n",
    "        for x in range(len(pp)):\n",
    "          if (pp[x] == 'M'):\n",
    "            orfs.append(pp[x:])\n",
    "            if (len(pp)-x+1) > longest:\n",
    "              longest = len(pp)-x+1\n",
    "              candidate = num\n",
    "            num += 1  \n",
    "            break\n",
    "      all_orfs[info] = {'orfs': orfs,'candidate': candidate, 'longest': longest}\n",
    "      \n",
    "    return all_orfs\n",
    "\n",
    "all_orfs = determine_orf(frames)\n",
    "all_orfs?"
   ]
  },
  {
   "cell_type": "code",
   "execution_count": null,
   "metadata": {
    "scrolled": true
   },
   "outputs": [],
   "source": [
    "%%perl\n",
    "open ($fn, \"TP53.txt\");\n",
    "while ($line=<$fn>) {\n",
    "  chomp($line);\n",
    "  if ($line !~ /^>/) {\n",
    "     foreach $base (split(\"\", $line)) {\n",
    "        push(@seq, $base);\n",
    "     }\n",
    "  }\n",
    "}\n",
    "\n",
    "%c_table = ('A'=>'T', 'T'=>'A', 'C'=>'G', 'G'=>'C');\n",
    "foreach $base (@seq) {\n",
    "   push(@c_seq, $c_table{$base});\n",
    "}\n",
    "\n",
    "@r_seq = reverse(@c_seq);\n",
    "\n",
    "open ($fn, \"T_table.csv\");\n",
    "$T_table = {};\n",
    "while ($line=<$fn>) {\n",
    "  chomp($line);\n",
    "  my @words = split(\"\\t\", $line);\n",
    "     $T_table->{$words[0]}->{'one'} = $words[1];\n",
    "     $T_table->{$words[0]}->{'three'} = $words[2];\n",
    "}\n",
    "close ($fn);\n",
    "\n",
    "$frames = {};\n",
    "foreach my $frame (1 .. 3) {\n",
    "   for ($i=$frame; $i<($#seq); $i += 3) {\n",
    "      my $codon = $seq[$i].$seq[$i+1].$seq[$i+2];\n",
    "      $frames->{'positive strain frame-'.$frame} .= $T_table->{$codon}->{'one'};\n",
    "   }\n",
    "}\n",
    "foreach my $frame (1 .. 3) {\n",
    "   for ($i=$frame; $i<($#r_seq); $i += 3) {\n",
    "      my $codon = $r_seq[$i].$r_seq[$i+1].$r_seq[$i+2];\n",
    "      $frames->{'negative strain frame-'.$frame} .= $T_table->{$codon}->{'one'};\n",
    "   }\n",
    "}\n",
    "\n",
    "$all_orfs = {};\n",
    "\n",
    "foreach my $info (keys %{$frames}) {\n",
    "#  print $frames->{$info},\"\\n\";\n",
    "#  print length($frames->{$info}).\"\\n\";\n",
    "  $longest = 0;\n",
    "  $candidate = 0;\n",
    "  $num = 0;\n",
    "  foreach $pp (split(/\\*/, $frames->{$info})) {\n",
    "    @seq = split(\"\", $pp);\n",
    "    $flag = $num;\n",
    "    foreach $x (0 .. $#seq) {\n",
    "      if (($seq[$x] eq \"M\") and ($flag == $num)){\n",
    "        if ((length($pp)-$x+1) > $longest) {\n",
    "          $longest = length($pp)-$x+1;\n",
    "          $candidate = $num;\n",
    "        }\n",
    "        push(@{$all_orfs->{$info}->{'orf'}}, $pp);\n",
    "#        print $pp.\"\\n\";\n",
    "        $num += 1;\n",
    "      }\n",
    "    }\n",
    "  }\n",
    "  $all_orfs->{$info}->{'candidate'} = $candidate;\n",
    "  $all_orfs->{$info}->{'longest'} = $longest;  \n",
    "}\n",
    "\n",
    "foreach my $info (keys %{$all_orfs}) {\n",
    "   print $info.\"\\n\";\n",
    "   print $all_orfs->{$info}->{'candidate'}.\"\\n\";\n",
    "   print $all_orfs->{$info}->{'longest'}.\"\\n\";\n",
    "   foreach $pp (@{$all_orfs->{$info}->{'orf'}}) {\n",
    "      print $pp.\"\\n\";\n",
    "   }\n",
    "   print \"\\n\";\n",
    "}"
   ]
  },
  {
   "cell_type": "markdown",
   "metadata": {},
   "source": [
    "#### Step 7 - Select the ORF for the gene (TP53)         "
   ]
  },
  {
   "cell_type": "code",
   "execution_count": null,
   "metadata": {},
   "outputs": [],
   "source": [
    "def select_orf(all):\n",
    "    \"\"\"選擇正確的 Protein 框架\"\"\"\n",
    "    pp = pprint.PrettyPrinter(depth=3)\n",
    "    pp.pprint(all)\n",
    "\n",
    "select_orf(all_orfs)"
   ]
  },
  {
   "cell_type": "code",
   "execution_count": null,
   "metadata": {},
   "outputs": [],
   "source": [
    "%%perl \n",
    "foreach my $x (1..9) {\n",
    "    foreach my $y (1..9) {\n",
    "       print $x.\"x\".$y.\"= \".$x*$y.\"\\t\";\n",
    "    }\n",
    "    print \"\\n\";\n",
    "}"
   ]
  },
  {
   "cell_type": "code",
   "execution_count": null,
   "metadata": {},
   "outputs": [],
   "source": [
    "%%perl\n",
    "\n",
    "@list = (1, 2, 3, 4, 5, 6);\n",
    "\n",
    "print $list[2];"
   ]
  }
 ],
 "metadata": {
  "kernelspec": {
   "display_name": "Python 3",
   "language": "python",
   "name": "python3"
  },
  "language_info": {
   "codemirror_mode": {
    "name": "ipython",
    "version": 3
   },
   "file_extension": ".py",
   "mimetype": "text/x-python",
   "name": "python",
   "nbconvert_exporter": "python",
   "pygments_lexer": "ipython3",
   "version": "3.6.2"
  }
 },
 "nbformat": 4,
 "nbformat_minor": 2
}
